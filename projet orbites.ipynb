{
 "cells": [
  {
   "cell_type": "markdown",
   "id": "891c04cb",
   "metadata": {},
   "source": [
    "# Projet : Gravitation et orbites"
   ]
  },
  {
   "cell_type": "markdown",
   "id": "0087143c",
   "metadata": {},
   "source": [
    "\n",
    "![Image d'un planétaire, par Birmingham Museums Trust](orrery.jpg)\n",
    "\n",
    "Dans ce projet, vous allez étudier la physique des orbites des planètes, dont des exoplanètes. À l'échelle du système solaire, le comportement des corps célestes se décrit, à une très bonne approximation, par les lois de Newton (chapitre 2, section 3 des notes de cours) et par la force gravitationnelle (chapitre 2, section 8.1 des NoC). Avec cette liste courte de principes et d'équations, on peut, en principe, décrire avec précision l'évolution temporelle du système -- c'est-à-dire, les orbites des planètes. Cependant, des résolutions analytiques des systèmes à plusieurs corps s'avèrent difficiles, voire impossibles. On a recours, donc, à une résolution numérique.\n",
    "\n",
    "Les compétences à acquérir sont les suivantes :\n",
    "\n",
    "+ La physique des forces, la gravitation, les lois de Newton.\n",
    "+ La manipulation des vecteurs.\n",
    "+ Les changements d'unités.\n",
    "+ L'analyse des données, l'ajustement d'un modèle linéaire aux données.\n",
    "+ La résolution d'un problème par la méthode numérique d'itération.\n",
    "+ Une compréhension des limites de la méthode, et comment évaluer son domaine de validité."
   ]
  },
  {
   "cell_type": "markdown",
   "id": "a7f035ae",
   "metadata": {},
   "source": [
    "---"
   ]
  },
  {
   "cell_type": "markdown",
   "id": "97888938",
   "metadata": {},
   "source": [
    "# 0. Outils de base : dessiner des points\n",
    "\n",
    "Pour rappel : vous avez utilisé `matplotlib` lors des TP. Voici un exemple trivial de comment dessiner un nuage de points (en anglais, un _scatter plot_) :"
   ]
  },
  {
   "cell_type": "code",
   "execution_count": 6,
   "id": "ceb3966c",
   "metadata": {
    "scrolled": true
   },
   "outputs": [
    {
     "ename": "ModuleNotFoundError",
     "evalue": "No module named 'matplotlib'",
     "output_type": "error",
     "traceback": [
      "\u001b[0;31m---------------------------------------------------------------------------\u001b[0m",
      "\u001b[0;31mModuleNotFoundError\u001b[0m                       Traceback (most recent call last)",
      "Cell \u001b[0;32mIn[6], line 1\u001b[0m\n\u001b[0;32m----> 1\u001b[0m \u001b[38;5;28;01mimport\u001b[39;00m \u001b[38;5;21;01mmatplotlib\u001b[39;00m\u001b[38;5;21;01m.\u001b[39;00m\u001b[38;5;21;01mpyplot\u001b[39;00m\n\u001b[1;32m      2\u001b[0m \u001b[38;5;28;01mimport\u001b[39;00m \u001b[38;5;21;01mmath\u001b[39;00m\n\u001b[1;32m      3\u001b[0m \u001b[38;5;28;01mimport\u001b[39;00m \u001b[38;5;21;01mnumpy\u001b[39;00m \u001b[38;5;28;01mas\u001b[39;00m \u001b[38;5;21;01mnp\u001b[39;00m\n",
      "\u001b[0;31mModuleNotFoundError\u001b[0m: No module named 'matplotlib'"
     ]
    }
   ],
   "source": [
    "import matplotlib.pyplot\n",
    "import math\n",
    "import numpy as np\n",
    "matplotlib.pyplot.ion()\n",
    "nPointsNuage = 50\n",
    "tmpX = np.zeros(nPointsNuage) # un array ; on pourrait également utiliser une liste\n",
    "tmpY = np.zeros(nPointsNuage)\n",
    "for i in range(0,nPointsNuage):\n",
    "    theta = i * (2.0 * math.pi / 60.0)\n",
    "    r = 0.9\n",
    "    x = r * math.cos(theta)\n",
    "    y = r * math.sin(theta)\n",
    "    tmpX[i] = x\n",
    "    tmpY[i] = y\n",
    "matplotlib.pyplot.scatter(tmpX, tmpY)\n",
    "matplotlib.pyplot.title(\"Mettre ici le titre du graphique\")\n",
    "matplotlib.pyplot.xlabel(\"Mettre ici le titre de l'abscisse [unités]\")\n",
    "matplotlib.pyplot.ylabel(\"Mettre ici le titre de l'ordonnée [unités]\")\n",
    "#matplotlib.pyplot.axis('scaled')\n",
    "matplotlib.pyplot.show()\n",
    "print(\"L'option 'scaled' permet d'homogénéiser les axes.\")"
   ]
  },
  {
   "cell_type": "markdown",
   "id": "4fd4dc65",
   "metadata": {},
   "source": [
    "---"
   ]
  },
  {
   "cell_type": "markdown",
   "id": "ae1919bc",
   "metadata": {},
   "source": [
    "# 1. Introduction : Les exoplanetes, et la troisième loi de Kepler\n",
    "\n",
    "L'astronome Kepler a identifié trois lois décrivant les orbites des planètes autour d'un astre, dont la troisième est la suivante :\n",
    "\n",
    "3) La carré de la période sidérale $P$ d'une planète (le temps entre deux passages suffessifs devant une étoile lointaine) est directement proportionnel au cube du demi-grand axe $a$ de la trajectoire elliptique de la planète :\n",
    "\n",
    "$$\\left( \\frac{2\\pi}{P} \\right)^2 \\, a^3 = k$$\n",
    "où\n",
    "\n",
    "* $P$ est la période de révolution (techniquement, la période sidérale) de la planète (en anglais : _orbital period_),\n",
    "* $a$ est le demi-grand axe de la trajectoire elliptique de la planète (en anglais : _semi-major axis of the orbit_),\n",
    "* $k$ est une constante.\n",
    "\n",
    "Newton a montré que la constante $k$ est donnée par la formule suivante :\n",
    "\n",
    "$$k = \\mathcal{G} (M+m) \\approx \\mathcal{G} M$$\n",
    "où\n",
    "\n",
    "+ $m$ est la masse de la planète,\n",
    "+ $M$ est la masse de l'astre,\n",
    "+ $\\mathcal{G}$ est la constante gravitationnelle, $\\mathcal{G} = 6,674 \\times 10^{-11} \\, \\mathrm{m}^3 \\, \\mathrm{kg}^{-1} \\, \\mathrm{s}^{-2}$\n",
    "\n",
    "L'approximation $\\mathcal{G}(M+m) \\approx \\mathcal{G}M$ est valable dans la limite où la masse de l'astre est grande devant celle de la planète. Dans cette limite, la valeur de $k$ est identique pour toutes les planètes d'un système solaire.\n",
    "\n",
    "Kepler étudiait notre système solaire, mais ses lois doivent s'appliquer plus largement.\n",
    "La NASA a rassemblé [une base de données d'observations d'exoplanètes](https://exoplanetarchive.ipac.caltech.edu/cgi-bin/TblView/nph-tblView?app=ExoTbls&config=PS),\n",
    "c'est-à-dire des planètes se situant dans des systèmes solaires autres que le nôtre.\n",
    "Dans le fichier ```nasa-exoplanetes.csv```, vous trouverez une fraction de ces données, dans un format adapté à la lecture par un code python.\n",
    "Les données se regroupent sous la forme de quatre colonnes et plusieurs rangées (lignes).\n",
    "Ces quatres colonnes représentent :\n",
    "\n",
    "1. la période de l'orbite de la planète, $P$, en jours ;\n",
    "2. le demi-[grand axe](https://fr.wikipedia.org/wiki/Grand_axe) de la trajectoire, $a$, en au ([unités astronomique](https://fr.wikipedia.org/wiki/Unit%C3%A9_astronomique)) ;\n",
    "3. la masse de la planète, $m$, en unités de [masses terrestres](https://fr.wikipedia.org/wiki/Masse_terrestre_(unit%C3%A9)) (1 $M_T$ = la masse de la Terre) ;\n",
    "4. la masse de l'astre, $M$, en unités de [masses solaires](https://fr.wikipedia.org/wiki/Masse_solaire) (1 $M_S$ = la masse du Soleil).\n",
    "\n",
    "Dans cette première partie, nous allons lire et étudier ces données afin de tester la théorie de Kepler.\n",
    "\n",
    "### Étape 1 : lecture du fichier\n",
    "\n",
    "[Q1] En utilisant ```numpy```, lire le contenu du fichier CSV et stocker le dans un tableau (array) bidimensionnel que vous appelerez `fiche`.\n",
    "(Par exemple, la méthode ```numpy.loadtxt()``` permettrait d'obtenir un tel tableau.)"
   ]
  },
  {
   "cell_type": "code",
   "execution_count": 1,
   "id": "14de29da",
   "metadata": {},
   "outputs": [],
   "source": [
    "#import numpy as np\n",
    "#fich = np.𝚕𝚘𝚊𝚍𝚝𝚡𝚝('nasa-exoplanetes.csv',𝚍𝚎𝚕𝚒𝚖𝚒𝚝𝚎𝚛=\",\")\n",
    "#print (fich[:,0])"
   ]
  },
  {
   "cell_type": "code",
   "execution_count": 17,
   "id": "cb23bc51",
   "metadata": {},
   "outputs": [
    {
     "name": "stdout",
     "output_type": "stream",
     "text": [
      "[[3.26030000e+02 1.29000000e+00 6.16560000e+03 2.70000000e+00]\n",
      " [5.16220000e+02 1.54000000e+00 3.33707000e+03 1.80000000e+00]\n",
      " [1.85840000e+02 8.30000000e-01 1.52550000e+03 2.20000000e+00]\n",
      " [1.76641000e+03 2.83000000e+00 1.54146777e+03 9.70000000e-01]\n",
      " [7.99450000e+02 1.67600000e+00 5.56835370e+02 9.80000000e-01]\n",
      " [9.93300000e+02 2.60000000e+00 3.27350000e+03 2.30000000e+00]\n",
      " [3.03506000e+01 1.90000000e-01 2.89225300e+02 9.90000000e-01]\n",
      " [4.52800000e+02 1.33300000e+00 6.32460000e+02 1.54000000e+00]\n",
      " [8.83000000e+02 2.08000000e+00 2.73320000e+02 1.54000000e+00]\n",
      " [4.16000000e+02 9.20000000e-01 6.03877000e+02 4.80000000e-01]\n",
      " [3.35100000e+02 9.95000000e-01 3.14003000e+03 1.16000000e+00]\n",
      " [2.69300000e+02 8.70000000e-01 2.25650000e+03 1.23000000e+00]\n",
      " [4.79100000e+02 1.19000000e+00 1.23313000e+03 9.80000000e-01]\n",
      " [1.07660000e+03 2.05900000e+00 7.74865660e+02 1.01000000e+00]\n",
      " [2.28700000e+03 3.40400000e+00 1.57960720e+02 1.01000000e+00]\n",
      " [4.23078500e+00 5.27000000e-02 1.50009000e+02 1.03000000e+00]\n",
      " [1.46516000e+01 1.13400000e-01 2.55400000e+02 9.10000000e-01]\n",
      " [4.43800000e+01 2.37000000e-01 5.24400000e+01 9.00000000e-01]]\n",
      "[3.2603e+02 1.2900e+00 6.1656e+03 2.7000e+00]\n"
     ]
    }
   ],
   "source": [
    "import numpy\n",
    "\n",
    "fich = numpy.loadtxt(\"nasa-exoplanetes.csv\", delimiter=',')\n",
    "print(fiche)\n",
    "print(fiche[0,:])"
   ]
  },
  {
   "cell_type": "markdown",
   "id": "3e4f71e0",
   "metadata": {},
   "source": [
    "### Étape 2 : calcul\n",
    "\n",
    "Ensuite, nous allons traiter les données, une ligne à la fois.\n",
    "Pour ce faire, il vous faudra une boucle `for`.\n",
    "**Pour chaque planète** (chaque ligne du tableau) :\n",
    "\n",
    "+ [Q2] Extraire les paramètres $P$, $a$, $m$, et $M$.\n",
    "+ [Q3] Calculer la valeur de $f = \\frac{a^3}{P^2 M}$ et imprimer sa valeur sous une forme semblable à la suivante :\n",
    "```La valeur de f de la [...]ième planète est [...] au^3 jour^-2 MS^-1```\n",
    "(où vous remplacerez les ```[...]``` par des chiffres). Stocker cette valeur dans un array (ou une liste) `valeursKeplerF`.\n",
    "\n",
    "[Q4] Que constatez-vous ?\n",
    "\n",
    "[Q5] Calculer la moyenne et l'écart-type de l'ensemble de vos valeurs de $f$\n",
    "(en utilisant ```numpy.mean()``` et ```numpy.std()``` ou autrement).\n"
   ]
  },
  {
   "cell_type": "code",
   "execution_count": 18,
   "id": "4b350be9",
   "metadata": {},
   "outputs": [
    {
     "name": "stdout",
     "output_type": "stream",
     "text": [
      "[ 326.03      516.22      185.84     1766.41      799.45      993.3\n",
      "   30.3506    452.8       883.        416.        335.1       269.3\n",
      "  479.1      1076.6      2287.          4.230785   14.6516     44.38    ]\n",
      "[1.29   1.54   0.83   2.83   1.676  2.6    0.19   1.333  2.08   0.92\n",
      " 0.995  0.87   1.19   2.059  3.404  0.0527 0.1134 0.237 ]\n",
      "[6165.6     3337.07    1525.5     1541.46777  556.83537 3273.5\n",
      "  289.2253   632.46     273.32     603.877   3140.03    2256.5\n",
      " 1233.13     774.86566  157.96072  150.009    255.4       52.44   ]\n",
      "[2.7  1.8  2.2  0.97 0.98 2.3  0.99 1.54 1.54 0.48 1.16 1.23 0.98 1.01\n",
      " 1.01 1.03 0.91 0.9 ]\n",
      "[7.47980436e-06 7.61412504e-06 7.52546262e-06 7.48866741e-06\n",
      " 7.51646005e-06 7.74517682e-06 7.52126769e-06 7.50165161e-06\n",
      " 7.49458996e-06 9.37422954e-06 7.56244793e-06 7.38210027e-06\n",
      " 7.49139103e-06 7.45656684e-06 7.46646358e-06 7.93876066e-06\n",
      " 7.46496308e-06 7.50979242e-06]\n",
      "la valeur de f de la 1 eme planete est 7.479804361237443e-06  au ^3 jour^-2 MS^_1\n",
      "la valeur de f de la 2 eme planete est 7.6141250378707166e-06  au ^3 jour^-2 MS^_1\n",
      "la valeur de f de la 3 eme planete est 7.525462617103386e-06  au ^3 jour^-2 MS^_1\n",
      "la valeur de f de la 4 eme planete est 7.488667410035809e-06  au ^3 jour^-2 MS^_1\n",
      "la valeur de f de la 5 eme planete est 7.516460049253657e-06  au ^3 jour^-2 MS^_1\n",
      "la valeur de f de la 6 eme planete est 7.74517681881957e-06  au ^3 jour^-2 MS^_1\n",
      "la valeur de f de la 7 eme planete est 7.521267693499806e-06  au ^3 jour^-2 MS^_1\n",
      "la valeur de f de la 8 eme planete est 7.5016516128901155e-06  au ^3 jour^-2 MS^_1\n",
      "la valeur de f de la 9 eme planete est 7.494589959136721e-06  au ^3 jour^-2 MS^_1\n",
      "la valeur de f de la 10 eme planete est 9.374229536489154e-06  au ^3 jour^-2 MS^_1\n",
      "la valeur de f de la 11 eme planete est 7.5624479288266e-06  au ^3 jour^-2 MS^_1\n",
      "la valeur de f de la 12 eme planete est 7.382100265489048e-06  au ^3 jour^-2 MS^_1\n",
      "la valeur de f de la 13 eme planete est 7.491391032227031e-06  au ^3 jour^-2 MS^_1\n",
      "la valeur de f de la 14 eme planete est 7.456566838677783e-06  au ^3 jour^-2 MS^_1\n",
      "la valeur de f de la 15 eme planete est 7.466463583606955e-06  au ^3 jour^-2 MS^_1\n",
      "la valeur de f de la 16 eme planete est 7.938760663413883e-06  au ^3 jour^-2 MS^_1\n",
      "la valeur de f de la 17 eme planete est 7.464963080781758e-06  au ^3 jour^-2 MS^_1\n",
      "on constate que les valeurs sont similaires et quasiment égales a 0\n",
      "la moyenne est 7.640773383919017e-06\n",
      "l'écart-type est 4.375324460955931e-07\n"
     ]
    }
   ],
   "source": [
    "P = fich[:,0]\n",
    "a = fich[:,1]\n",
    "m = fich[:,2]\n",
    "M = fich[:,3]\n",
    "print (P)\n",
    "print(a)\n",
    "print(m)\n",
    "print(M)\n",
    "# Q 3\n",
    "f = a**3 /(P**2 *M)\n",
    "print(f)\n",
    "valeurkeplerX =[]\n",
    "valeurkeplerY =[]\n",
    "for i in range(0, 17):\n",
    "    print(\"la valeur de f de la\", i+1, \"eme planete est\",f[i],\" au ^3 jour^-2 MS^_1\")\n",
    "    x = P[i] ** 2 * M[i]\n",
    "    y = a[i]** 3\n",
    "    valeurkeplerX.append(x)\n",
    "    valeurkeplerY.append(y)\n",
    "#Q4\n",
    "print (\"on constate que les valeurs sont similaires et quasiment égales a 0\")\n",
    "# Q5\n",
    "moyenne = np.mean(f)\n",
    "print (\"la moyenne est\", moyenne)\n",
    "ecarttype = np.std(f)\n",
    "print(\"l'écart-type est\", ecarttype)\n"
   ]
  },
  {
   "cell_type": "markdown",
   "id": "e0a7d81a",
   "metadata": {},
   "source": [
    "### Étape 3 : graphique\n",
    "\n",
    "Il convient de visualiser des données sous forme d'un graphique.\n",
    "\n",
    "[Q6] Modifier votre code pour qu'il calcule et stocke en plus, pour chaque ligne,\n",
    "\n",
    "+ les abscisses $x = P^2 M$ (stockées dans un array/liste `valeursKeplerX`),\n",
    "+ les ordonnées $y = a^3$ (stockées dans un array/liste `valeursKeplerY`).\n",
    "\n",
    "et puis tracer un nuage de points (en utilisant ```matplotlib.pyplot.scatter()``` ou autrement). N'oubliez pas d'ajouter un titre et nommer vos axes (avec les bonnes unités)."
   ]
  },
  {
   "cell_type": "markdown",
   "id": "11200fd2",
   "metadata": {},
   "source": [
    "### Étape 4 : ajustement et interpretation\n",
    "\n",
    "[Q7] Effectuer un ajustement linéaire aux données (avec ```numpy.polyfit()``` ou autrement),\n",
    "et ajouter la fonction ajustée au graphique.\n",
    "\n",
    "* [Q8] Commenter l'ajustement. (Les données, sont-elles cohérentes avec la fonction ?)\n",
    "* [Q9] Que vaut le coefficient directeur de la droite ? Est-il cohérent avec la moyenne calculée précédemment ? Est-il cohérent avec la théorie ? (Astuce : faites attention aux unités. Combien de mètres vaut 1au (une unité astronomique) ? Combien de s vaut un jour ? Combien de kg vaut la masse solaire $M_S$ ?)\n",
    "* [Q10] Selon la loi de Kepler, la droite passe par l'origine. Est-ce bien le cas ? (L'ordonnée à l'origine, est-elle cohérente avec zéro ?)"
   ]
  },
  {
   "cell_type": "code",
   "execution_count": 19,
   "id": "30bbc628",
   "metadata": {},
   "outputs": [
    {
     "data": {
      "image/png": "[encoded data removed]",
      "text/plain": [
       "<Figure size 432x288 with 1 Axes>"
      ]
     },
     "metadata": {},
     "output_type": "display_data"
    }
   ],
   "source": [
    "import matplotlib.pyplot as plt\n",
    "import numpy as np\n",
    "p = np.polyfit(valeurkeplerX, valeurkeplerY,1)\n",
    "x = np.linspace(0, 10, 20)\n",
    "plt.plot(valeurkeplerX, p[0]*np.array(valeurkeplerX) + p[1],\"-\")\n",
    "plt.plot(valeurkeplerX,valeurkeplerY,\"o\")\n",
    "plt.title(\"Valeur Kepler\")\n",
    "plt.xlabel(\"P^2 * M [Jour^2 * MS]\")\n",
    "plt.ylabel(\"a^3[au^3]\")\n",
    "p = np.polyfit(valeurkeplerX, valeurkeplerY,1)\n",
    "plt.show()\n"
   ]
  },
  {
   "cell_type": "code",
   "execution_count": 20,
   "id": "8e04e8a6",
   "metadata": {},
   "outputs": [
    {
     "name": "stdout",
     "output_type": "stream",
     "text": [
      "On remarque que la droite passe par tous les points x donc elle est bien en accord avec les données\n",
      "\n",
      " le coefficient directeur de la droite vaut 7.4922405814012325e-06  il correspond très bien à la moyenne calculée qui vaut  7.640773383919017e-06 car la difference entre les 2 valeurs est minime\n",
      "\n",
      "on remarque que a valeur de G = 6.674e-11  est bien en accord avec le calcul qui nous donne 6.669379330105735e-11 car la différence entre les 2 valeurs est négligeable\n",
      "Donc la théorie de kepler est vérifiée\n",
      "\n",
      "oui la droite passe par l'origine ce qui vérifie bien la loi de Kepler \n"
     ]
    }
   ],
   "source": [
    "# Q8\n",
    "print(\"On remarque que la droite passe par tous les points x donc elle est bien en accord avec les données\")\n",
    "print()\n",
    "# Q9\n",
    "print(\" le coefficient directeur de la droite vaut\", p[0], \" il correspond très bien à la moyenne calculée qui vaut \", moyenne, \"car la difference entre les 2 valeurs est minime\")\n",
    "o = p[0]* (((149597870700**3)* 4*(np.pi)**2)/(86400**2 * 1.989*10**30)) # on a G = a^3 * 4*pi^2 / (P^2)*M  car k = GM\n",
    "# 1 au = 14957870700 m / 1jour = 86400 s / Ms= 1.989 * 10 ^30 kg donc on convertissant les unites on a l'expression ci-haut\n",
    "G = 6.674*10 **(-11)\n",
    "print()\n",
    "print(\"on remarque que a valeur de G =\", G, \" est bien en accord avec le calcul qui nous donne\", o,\"car la différence entre les 2 valeurs est négligeable\")\n",
    "print(\"Donc la théorie de kepler est vérifiée\" )\n",
    "# Q10\n",
    "print()\n",
    "print(\"oui la droite passe par l'origine ce qui vérifie bien la loi de Kepler \")"
   ]
  },
  {
   "cell_type": "markdown",
   "id": "c662c161",
   "metadata": {},
   "source": [
    "---"
   ]
  },
  {
   "cell_type": "markdown",
   "id": "833d2221",
   "metadata": {},
   "source": [
    "# 2. Modélisation simple d'un système simple\n",
    "\n",
    "## 2.1 : Introduction\n",
    "\n",
    "Rappelons la loi de Newton (le principe fondamental de la dynamique):\n",
    "\n",
    "$$m_{\\mathrm{tot}} \\frac{\\mathrm{d}\\vec{v}_C}{\\mathrm{d}t} = \\vec{F}_{\\mathrm{tot}}$$\n",
    "où\n",
    "\n",
    "+ $m_{\\mathrm{tot}}$ est la masse totale d'un système,  \n",
    "+ $\\vec{v}_C$ est la vitesse (vectorielle) du centre de masse $C$ du système, et  \n",
    "+ $\\vec{F}_{\\mathrm{tot}}$ est la résultante des forces extérieures qui s'appliquent sur le système.\n",
    "\n",
    "Rappelons également comment calculer la force gravitationnelle entre deux corps :\n",
    "\n",
    "$$\\vec{F}_{A\\to B} = -\\mathcal{G} \\frac{m_A m_B}{||\\vec{AB}||^2} \\vec{u}_{AB}$$\n",
    "où\n",
    "\n",
    "+ $\\vec{F}_{A\\to B}$ est la force exercé par un corps (ou un système d'objets) $A$ de masse $m_A$ sur un corps $B$ de masse $m_B$,  \n",
    "+ $\\vec{AB}$ est la distance vectorielle entre les centres de masse des deux corps,  \n",
    "+ $\\mathcal{G}$ est la constante gravitationnelle,  et\n",
    "+ $\\vec{u}_{AB}$ est le vecteur unitaire de la distance entre les deux corps :\n",
    "$$\\vec{u}_{AB} = \\frac{\\vec{AB}}{||\\vec{AB}||}$$\n",
    "\n",
    "Nous allons mettre en oeuvre une résolution numérique de ces équations.\n",
    "Nous étudierons d'abord des systèmes suffisamment simples qu'ils permettent\n",
    "aussi des résolutions _analytiques_. L'intérêt est de comparer les deux approches\n",
    "afin de valider l'approche numérique et de comprendre ses limites."
   ]
  },
  {
   "cell_type": "markdown",
   "id": "28ac825e",
   "metadata": {},
   "source": [
    "## 2.2 : Outils de base : comment calculer la distance et la force entre deux corps\n",
    "\n",
    "Un vecteur en trois dimensions, par exemple la vitesse du corps $A$, peut se représenter sous la forme de trois nombres. Plusieurs conventions sont possibles : [coordonnées cartésiennes](https://fr.wikipedia.org/wiki/Coordonn%C3%A9es_cart%C3%A9siennes) $\\vec{x} = (x,y,z)$, [coordonnées sphériques](https://fr.wikipedia.org/wiki/Coordonn%C3%A9es_sph%C3%A9riques) (r,$\\theta$,$\\phi$), et d'autres. En principe, on peut choisir librement son système de coordonnées, car ce choix n'a pas de conséquences physiques. Par contre, certains choix peuvent entrainer des calculs beaucoup plus complexes que d'autres, et pour cette raison nous utiliserons exclusivement des coordonnées cartésiennes dans ce projet.\n",
    "\n",
    "De même, on peut choisir librement certaines propriétés de son système de coordonnées : par exemple, l'orientation des axes, où se situe l'origine, et même un déplacement ou une rotation globale du système. Cependant, un mauvais choix peut amener à des complexités inutiles. Pour cette raison, nous choisirons des origines naturelles et appropriées au problème. (Par exemple, pour étudier les orbites des planètes autour du Soleil, on choisirait comme origine un point proche du centre du système solaire, et non le centre d'une galaxie lointaine.)\n",
    "\n",
    "En plus de sa représentation mathématique, en Python nous pouvons représenter un vecteur sous plusieurs formes : trois nombres indépendents, un objet de type `list`, un objet de type `numpy.array`, et d'autres. Pour assurer l'autocohérence, nous utilserons des objets `numpy.array`.\n",
    "\n",
    "Nous aurons besoin, à plusieurs reprises, de calculer la distance vectorielle (vecteur déplacement) entre deux points, et d'en déduire sa norme et sa direction. Par exemple, dans la formule de la force gravitationnelle ci-dessous, nous avons vu :\n",
    "\n",
    " + le vecteur déplacement $\\vec{AB} = \\vec{x}_B - \\vec{x}_A$ (où $\\vec{x}_B = \\vec{OB}$ est la position du corps B, et $\\vec{x}_A = \\vec{OA}$ est la position du corps A) ;\n",
    " + sa magnitude $||\\vec{AB}||$, un scalaire ;\n",
    " + sa direction $\\vec{u}_{AB}$, un vecteur unitaire.\n",
    " \n",
    "Grâce à `numpy.array`, ces opérations sont simples à réaliser. Par exemple :"
   ]
  },
  {
   "cell_type": "code",
   "execution_count": 21,
   "id": "9f711767",
   "metadata": {},
   "outputs": [
    {
     "name": "stdout",
     "output_type": "stream",
     "text": [
      "Voici la position du corps A :  [0. 0. 1.] m\n",
      "Voici la position du corps B :  [0. 2. 1.] m\n",
      "Voici le vecteur déplacement entre A et B :  [0. 2. 0.] m\n",
      "  Sa magnitude est  2.0 m, et son vecteur unitaire est  [0. 1. 0.]\n"
     ]
    }
   ],
   "source": [
    "import numpy\n",
    "\n",
    "# Nous définissons deux vecteurs, qui répresentent des positions de deux objets :\n",
    "exempleVecA = numpy.array([0.0, 0.0, 1.0]) # en mètres (les objets ne sont pas des planètes !)\n",
    "exempleVecB = numpy.array([0.0, 2.0, 1.0]) # en mètres\n",
    "\n",
    "# Nous calculons la différence entre les deux vecteurs, qui répresente le vecteur déplacement entre les objets :\n",
    "exempleVecDiff = exempleVecB - exempleVecA # en mètres\n",
    "\n",
    "# Nous calculons le produit scalaire de cette différence avec elle-même, c'est-à-dire la magnitude au carré :\n",
    "exempleVecDiffMagCarre = exempleVecDiff.dot(exempleVecDiff) # en m^2\n",
    "\n",
    "# ... et nous en déduisons la magnitude :\n",
    "import math\n",
    "exempleVecDiffMag = math.sqrt(exempleVecDiffMagCarre) # en mètres\n",
    "\n",
    "# Enfin, nous divisons le vecteur différence par sa magnitude, et nous en déduisons le vecteur unitaire associé :\n",
    "exempleVecDiffUnitaire = exempleVecDiff / exempleVecDiffMag # sans unités\n",
    "\n",
    "print(\"Voici la position du corps A : \", exempleVecA, \"m\")\n",
    "print(\"Voici la position du corps B : \", exempleVecB, \"m\")\n",
    "print(\"Voici le vecteur déplacement entre A et B : \", exempleVecDiff, \"m\")\n",
    "print(\"  Sa magnitude est \", exempleVecDiffMag, \"m, et son vecteur unitaire est \", exempleVecDiffUnitaire)\n",
    "\n"
   ]
  },
  {
   "cell_type": "markdown",
   "id": "27c60f06",
   "metadata": {},
   "source": [
    "### Exercice : calculer la force\n",
    "\n",
    "[Q11] Muni de ces outils, écrire une fonction python `forceGravitationnelle(xA, xB, mA, mB)` qui calcule la force vectorielle entre deux corps A et B, dont les positions sont `xA` et `xB`, et dont les masses sont `mA` et `mB`. On reprend la formule :\n",
    "\n",
    "$$\\vec{F}_{A\\to B} = -\\mathcal{G} \\frac{m_A m_B}{||\\vec{AB}||^2} \\vec{u}_{AB}$$\n",
    "\n",
    "Vous pouvez utiliser la trame suivante :\n",
    "\n",
    "```python\n",
    "def ForceGravitationnelle(xA, xB, mA, mB):\n",
    "    G = 6.674*10**(-11)\n",
    "    exempleVecDiff = xB - xA \n",
    "    exempleVecDiffMagCarre = exempleVecDiff.dot(exempleVecDiff)\n",
    "    exempleVecDiffMag = math.sqrt(exempleVecDiffMagCarre)\n",
    "    exempleVecDiffUnitaire = exempleVecDiff / exempleVecDiffMag\n",
    "    F = (G*mA*mB/exempleVecDiffMagCarre)*exempleVecDiffUnitaire\n",
    "    return F\n",
    "```"
   ]
  },
  {
   "cell_type": "code",
   "execution_count": 22,
   "id": "ef2dff76",
   "metadata": {
    "collapsed": true,
    "jupyter": {
     "outputs_hidden": true
    }
   },
   "outputs": [],
   "source": [
    "def ForceGravitationnelle(xA, xB, mA, mB):\n",
    "    G = 6.674*10**(-11)\n",
    "    exempleVecDiff = xB - xA\n",
    "    exempleVecDiffMagCarre = exempleVecDiff.dot(exempleVecDiff)\n",
    "    exempleVecDiffMag = math.sqrt(exempleVecDiffMagCarre)\n",
    "    exempleVecDiffUnitaire = exempleVecDiff / exempleVecDiffMag\n",
    "    F = (-G*mA*mB/exempleVecDiffMagCarre)*exempleVecDiffUnitaire\n",
    "   \n",
    "    return F\n"
   ]
  },
  {
   "cell_type": "markdown",
   "id": "34127475",
   "metadata": {},
   "source": [
    "Il est une bonne pratique de tester et de vérifier le code que l'on vient d'écrire. Par exemple, dans l'exemple ci-dessus, on définit deux objets séparés d'une distance de deux mètres dans la direction $+y$. Soient leurs masses 1kg. On sait, donc, que la norme de la force est\n",
    "\n",
    "$$\\mathcal{G} \\frac{m_A m_B}{||\\vec{AB}||^2} = \\left( 6,674 \\times 10^{-11} \\, \\mathrm{m}^3 \\, \\mathrm{kg}^{-1} \\, \\mathrm{s}^{-2} \\right) \\times \\frac{1 \\, \\mathrm{kg}^2}{4 \\, \\mathrm{m}^2} = 1,6685 \\times 10^{-11} \\, \\mathrm{kg} \\, \\mathrm{m} \\, \\mathrm{s}^{-2}$$\n",
    "\n",
    "Et l'orientation ? $\\vec{F}_{A\\to B}$ est la force exercé par A sur B, c'est-à-dire la force subit par B ; la force gravitationnelle étant attractive, elle va diriger B vers A, donc dans la direction $-y$, c'est-à-dire $(0, -1, 0)$. Est-ce bien le cas ? Le code ci-dessous effectuera ce test (après que vous avez défini la fonction `forceGravitationelle`) :"
   ]
  },
  {
   "cell_type": "markdown",
   "id": "bdb720fd",
   "metadata": {},
   "source": [
    "```python\n",
    "exempleForce = forceGravitationnelle(exempleVecA, exempleVecB, 1.0, 1.0)\n",
    "exempleForceMagnitude = math.sqrt(exempleForce.dot(exempleForce))\n",
    "print(\"La force est\", exempleForce, \"kg m s^{-2}. Sa magnitude vaut \", exempleForceMagnitude, \"kg m s^{-2}, et son vecteur unitaire est\", exempleForce/exempleForceMagnitude)\n",
    "```"
   ]
  },
  {
   "cell_type": "code",
   "execution_count": 23,
   "id": "103af22a",
   "metadata": {},
   "outputs": [
    {
     "name": "stdout",
     "output_type": "stream",
     "text": [
      "La force est [-0.0000e+00 -1.6685e-11 -0.0000e+00] kg m s^{-2}. Sa magnitude vaut  1.6685e-11 kg m s^{-2}, et son vecteur unitaire est [-0. -1. -0.]\n"
     ]
    }
   ],
   "source": [
    "exempleForce = ForceGravitationnelle(exempleVecA, exempleVecB, 1.0, 1.0)\n",
    "exempleForceMagnitude = math.sqrt(exempleForce.dot(exempleForce))\n",
    "print(\"La force est\", exempleForce, \"kg m s^{-2}. Sa magnitude vaut \", exempleForceMagnitude, \"kg m s^{-2}, et son vecteur unitaire est\", exempleForce/exempleForceMagnitude)"
   ]
  },
  {
   "cell_type": "markdown",
   "id": "be216997",
   "metadata": {},
   "source": [
    "[Q12] Ajouter ces lignes de code et effectuer ce test. Si tout est correct, le résultat de ce test simple devrait se ressembler à la suivante :\n",
    "\n",
    "```\n",
    "La force est [-0.0000e+00 -1.6685e-11 -0.0000e+00] kg m s^{-2}. Sa magnitude vaut  1.6685e-11 kg m s^{-2}, et son vecteur unitaire est [-0. -1. -0.]\n",
    "```"
   ]
  },
  {
   "cell_type": "markdown",
   "id": "0fbb52f8",
   "metadata": {},
   "source": [
    "## 2.3 : Premier jet : un champ gravitationnel statique\n",
    "\n",
    "On considère un système constitué du Soleil (corps A) et de la Terre (corps B).\n",
    "Nous souhaitons modéliser le trajet de la Terre autour du Soleil.\n",
    "Dans ce premier exercice, le Soleil est supposé fixe et immobile à l'origine.\n",
    "\n",
    "La masse du Soleil vaut $1,9885 \\times 10^{30} \\, \\mathrm{kg}$.\n",
    "La masse de la Terre vaut $5,972 \\times 10^{24} \\, \\mathrm{kg}$."
   ]
  },
  {
   "cell_type": "markdown",
   "id": "8e16a258",
   "metadata": {},
   "source": [
    "### Exercice : calculer la force subit par la Terre\n",
    "\n",
    "À t=0 (c'est-à-dire dans les conditions initialles), la Terre se trouve à une distance \n",
    "$d_0 = 149 \\, 596 \\, 006 \\, \\mathrm{km}$\n",
    "du Soleil.\n",
    "On place la Terre à $x_B = (d_0, 0, 0)$. Le soleil est forcément à $x_A = (0,0,0)$.\n",
    "\n",
    "[Q13] Utiliser votre fonction `forceGravitationnelle` pour évaluer la force gravitationnelle (vectorielle) subie par la Terre à cet instant, en unités SI.\n",
    "\n",
    "[Q14] Ensuite, faites le calcul vous-même (sur papier, ou avec une calculatrice) et vérifiez que vos deux valeurs sont cohérentes."
   ]
  },
  {
   "cell_type": "code",
   "execution_count": 24,
   "id": "4ddcb39d",
   "metadata": {},
   "outputs": [
    {
     "name": "stdout",
     "output_type": "stream",
     "text": [
      "[1.49596006e+11 0.00000000e+00 0.00000000e+00]\n",
      "[-3.53530197e+22 -0.00000000e+00 -0.00000000e+00]\n",
      "oui le calcul est verifie\n"
     ]
    }
   ],
   "source": [
    "# Q13\n",
    "d0=149596006000.0 # en metres\n",
    "exempleVecDiff = numpy.array([d0, 0.,0.]) - numpy.array([0., 0., 0.])\n",
    "print(exempleVecDiff)\n",
    "print(ForceGravitationnelle(numpy.array([0., 0., 0.]), numpy.array([d0, 0.,0.]), 1.985*10**30, 5.972*10**24))\n",
    "# q14\n",
    "print(\"oui le calcul est verifie\")"
   ]
  },
  {
   "cell_type": "markdown",
   "id": "b8030582",
   "metadata": {},
   "source": [
    "## 2.4 : L'évolution du système\n",
    "\n",
    "Mais la Terre ne va pas rester à cette position initiale : elle se déplace ! Comment calculer son trajet ? Il est possible de trouver une solution analytique, mais nous suivrons plutôt une approche numérique itérative. Nous faisons une série de calculs par pas de temps $dt$. Nous supposons connues les positions et vitesses du système au temps initial $t=t_0$. Munis de ces informations, nous pouvons calculer les forces exercées, et les accélerations résultantes. Elles permettent de calculer les positions et les vitesses des objets un petit moment plus tard, à $t = t_0 + dt$. Sachant ces nouvelles valeurs, nous pouvons mettre à jour nos calculs des forces et des accélerations, et ensuite nous recalculerons les positions et les vitesses à $t = t_0 + 2dt$. Nous continuerons à répéter ces étapes en boucle, et ainsi nous pourrons calculer l'état du système à tout temps ultérieur. L'approche pourrait vous rappeler les mots de Laplace :\n",
    "\n",
    "> « Une intelligence qui, à un instant donné, connaîtrait toutes les forces dont la nature est animée et la situation respective des êtres qui la composent, si d’ailleurs elle était suffisamment vaste pour soumettre ces données à l’analyse, embrasserait dans la même formule les mouvements des plus grands corps de l’univers et ceux du plus léger atome ; rien ne serait incertain pour elle, et l’avenir, comme le passé, serait présent à ses yeux.»\n",
    "\n",
    "Mais comment mettre en oeuvre cette approche ?"
   ]
  },
  {
   "cell_type": "markdown",
   "id": "968ba2ea",
   "metadata": {},
   "source": [
    "Supposons que le pas $dt$ soit suffisamment court pour que la réponse du système soit linéaire, c'est-à-dire\n",
    "\n",
    "$$\\vec{x}_B(t + dt) = \\vec{x}_B(t) + d\\vec{x} = \\vec{x}_B(t) + \\vec{v}_B(t) dt$$\n",
    "$$\\vec{v}_B(t + dt) = \\vec{v}_B(t) + d\\vec{v} = \\vec{v}_B(t) + \\vec{a}_B(t) dt$$\n",
    "\n",
    "où $\\vec{x}_B(t)$ est la position de la Terre au temps $t$, $\\vec{v}_B(t)$ est sa vitesse, et $\\vec{a}_B(t)$ est son accéleration. Noter que ces expressions ne sont pas exactes, parce qu'en réalité $\\vec{v}_A$ et $\\vec{a}_A$ évoluent pendant de l'intervalle $(t, t+dt)$... mais si $dt$ est très court, les paramètres sont presque constants et l'approximation est bonne. (Dans la limite $dt \\to 0$, on recouvre le calcul différentiel et les expressions deviennent exactes.)\n",
    "\n",
    "Alors, on procède comme suite :\n",
    "\n",
    "- On définie les conditions initiales : les valeurs des paramètres $\\vec{x}_B(t)$ et $\\vec{v}_B(t)$ à $t=0$.\n",
    "- On calcule $\\vec{F}_{A\\to B}(t)$ et ainsi $\\vec{a}_B(t)$ à $t=0$.\n",
    "- On calcule les paramètres à $dt$ : $\\vec{x}_B(dt)$ et $\\vec{v}_B(dt)$.\n",
    "- Avec ces nouvelles valeurs à $dt$, on calcule les paramètres à $2dt$.\n",
    "- Avec ces nouvelles valeurs à $2dt$, on calcule les paramètres à $3dt$.\n",
    "- (etc)\n",
    " \n",
    "Ceci est une approche itérative. Parce que nous allons refaire les calculs de nombreuses fois, nous aimerions écrire un bloc de code réutilisable dans des boucles.\n",
    "\n",
    "### Exercice : avancer un pas\n",
    "\n",
    "[Q15] Écrire une fonction `champStatiqueAvanceUnPas(xA, xB, vB, dt)` qui fait avancer la position et la vitesse de la Terre d'un pas, et renvoie les nouvelles valeurs.\n",
    "(Dans ce modèle simplifié, le Soleil reste fixe à l'origine. Parce qu'il ne bouge pas, nous ne précisons pas sa vitesse.)\n",
    "Vous pouvez utiliser la trame suivante :\n",
    "\n",
    "```\n",
    "def champStatiqueAvanceUnPas(xA, xB, vB, dt):\n",
    "    # votre code ici\n",
    "    nouvelle_xB = [...]\n",
    "    nouvelle_vB = [...]\n",
    "    return nouvelle_xB, nouvelle_vB\n",
    "```\n",
    "\n",
    "Point technique : Python traite des nombres simples (comme `dt`) un peu différemment des objets composés (comme `xB`). Selon la structure de votre code, vous pourriez avoir besoin de créer une nouvelle copie d'un vecteur avant de le manipuler, par exemple :\n",
    "\n",
    "```\n",
    "    dxB = dt * numpy.array(vB)\n",
    "````\n",
    "\n",
    "[Q16] Ensuite, tester la fonction. Par exemple, avec une vitesse initiale de **29,78 km/s** vers $+y$ et un pas de 1s, on attend que la Terre se déplace d'environ 30km vers $+y$ lors du pas, et que sa vitesse évolue vers le Soleil (vers $-x$) ; vous trouverez un bloc de code adapté ci-dessous. Ajouter ce test et vérifier qu'il donne un résultat raisonnable.\n",
    "\n",
    "```\n",
    "tmp_xA = exempleChampStatique_Soleil_x\n",
    "tmp_xB = exempleChampStatique_Terre_x\n",
    "tmp_vB = (0.0, 1.0, 0.0)\n",
    "tmp_dt = 1.0\n",
    "print(\"Avant : xB = \", tmp_xB, \" ; vB = \", tmp_vB)\n",
    "tmp_xB, tmp_vB = champStatiqueAvanceUnPas(tmp_xA, tmp_xB, tmp_vB, tmp_dt)\n",
    "print(\"Après : xB = \", tmp_xB, \" ; vB = \", tmp_vB)\n",
    "```\n",
    " "
   ]
  },
  {
   "cell_type": "code",
   "execution_count": 25,
   "id": "68e3789c",
   "metadata": {
    "collapsed": true,
    "jupyter": {
     "outputs_hidden": true
    }
   },
   "outputs": [],
   "source": [
    "def champStatiqueAvanceUnPas(xA, xB, vB, dt):\n",
    "    # votre code ici\n",
    "    dxB = dt * numpy.array(vB)\n",
    "    nouvelle_xB = xB + dxB\n",
    "    aB = (ForceGravitationnelle(xA, xB, 1.9885*10**30, 5.972*10**24))/(5.972*10**24)\n",
    "    #print(aB)\n",
    "    dvB = dt * numpy.array(aB)\n",
    "    nouvelle_vB = vB + dvB\n",
    "    return nouvelle_xB, nouvelle_vB\n",
    "mterre = 5.972*10**24\n",
    "msoleil = 1.9885*10**30"
   ]
  },
  {
   "cell_type": "code",
   "execution_count": 26,
   "id": "27ae0178",
   "metadata": {},
   "outputs": [
    {
     "name": "stdout",
     "output_type": "stream",
     "text": [
      "Avant : xB =  [1.49596006e+11 0.00000000e+00 0.00000000e+00]  ; vB =  [    0. 29780.     0.]\n",
      "Après : xB =  [1.49596006e+11 2.97800000e+04 0.00000000e+00]  ; vB =  [-5.93023359e-03  2.97800000e+04  0.00000000e+00]\n"
     ]
    }
   ],
   "source": [
    "tmp_xA =numpy.array([0, 0, 0])\n",
    "tmp_xB = numpy.array([d0, 0, 0])\n",
    "tmp_vB =numpy.array([0.0, 29780, 0.0])\n",
    "tmp_dt = 1.0\n",
    "print(\"Avant : xB = \", tmp_xB, \" ; vB = \", tmp_vB)\n",
    "tmp_xB, tmp_vB = champStatiqueAvanceUnPas(tmp_xA, tmp_xB, tmp_vB, tmp_dt)\n",
    "print(\"Après : xB = \", tmp_xB, \" ; vB = \", tmp_vB)\n",
    "# ceci est en accord avec les donnees de la Q16"
   ]
  },
  {
   "cell_type": "markdown",
   "id": "c2f11323",
   "metadata": {},
   "source": [
    "## 2.5 : Point sur le choix du pas\n",
    "\n",
    "Le pas ($dt$) n'est pas un paramètre physique : il ne correspond pas à une propriété observable du système solaire. En principe, on devrait trouver des résultats semblables pour tout choix _valable_ de dt (c'est-à-dire, pour tout choix qui valide l'hypothèse que l'évolution du système est linéaire pendant l'intervalle $dt$). Cependant, il est un paramètre de notre modèle, et un mauvais choix du pas peut fausser le résultat. Par exemple, nous savons que la période de l'orbite de la Terre autour du Soleil est un an. Un pas de six mois serait beaucoup trop grossier, car le trajet de la Terre montre une courbure importante à cette échelle. (La Terre part vers $+y$, mais après six mois elle aura fait demi-tour et se dirige vers $-y$ à l'autre côté du Soleil.) En général, on veut que le pas soit le plus court possible.\n",
    "\n",
    "Mais la précision a son prix : plus $dt$ est petit, plus le temps de calcul augmente. Par exemple, supposons qu'on souhaite suivre l'orbite de la Terre pendant un an. Un pas d'un jour nécessiterait environ 365 appels à la fonction `champStatiqueAvanceUnPas` ; un pas d'une heure nécessiterait environ 9000 appels ; et un pas d'une seconde, environ 30 million appels. Aujourd'hui les ordinateurs sont puissants et des millions de calculs ne posent pas forcément un problème, mais il y a des limites ; un pas d'un nanoseconde, par exemple, serait inapproprié. (Parfois on rencontre d'autres limites, comme la consommation de mémoire vive si on stocke la position de la Terre après chaque pas.) Un pas très, très petit peut aussi engendrer des problèmes de précision numérique. Dans ce projet, vous devrez choisir un pas adapté au problème, et étudier l'effet de la variation de sa valeur.\n"
   ]
  },
  {
   "cell_type": "markdown",
   "id": "d2a33a88",
   "metadata": {},
   "source": [
    "#### Exercice : L'orbite de la terre\n",
    "\n",
    "On va maintentant suivre la Terre autour du Soleil. On prend des valeurs initiales suivantes : \n",
    "\n",
    "$$\\vec{x}(t=0) = (d_0, 0, 0)$$\n",
    "$$\\vec{v}(t=0) = (0, v_0, 0)$$\n",
    "où\n",
    "$$d_0 = 149 \\, 596 \\, 006 \\, \\mathrm{km}$$\n",
    "$$v_0 = 29,78 \\, \\mathrm{km} \\, \\mathrm{s}^{-1}$$\n",
    "\n",
    "[Q17] Choisir un pas $dt$, et déterminer le nombre $N$ de pas correspondent à un an (environ 365.25 jours). Ensuite, utilisez la fonction `champStatiqueAvanceUnPas()` $N$ fois et déterminer la position de la Terre après un an. Pour ceci, vous souhaiterez utiliser une boucle `for`. \n",
    "\n",
    "[Q18] Visualiser l'évolution temporelle de la position de la Terre.\n",
    " * Remarques : Il est convenable de pouvour visualiser ce que fait le calcul. À cette fin, vous pouvez utiliser la fonction `scatter()` de `matplotlib.pyplot`. Astuce : faites attention à ne pas surcharger le graphique. Par exemple, si vous essayez d'y ajouter un point par seconde (environ $3\\times 10^7$ points au total), vous dépasserez sans doute des limites de ressources. Au lieu de dessiner un point par pas, vous pourriez dessiner un point par 1000 pas (ou 100, ou $10^4$, ou etc, en fonction de sa durée) ; [l'opération modulo](https://fr.wikipedia.org/wiki/Modulo_(op%C3%A9ration)) (`%`, le reste de la division d'entiers) pourrait vous aider. Vous pouvez ainsi utiliser un pas court sans stocker un nombre excessif de points.\n",
    "\n",
    "Questions à considérer, muni de votre outil de simulation numérique :\n",
    "\n",
    "+ [Q19] Est-ce que la Terre est revenue à son point de départ après un an ? (À quelle précision ?)\n",
    "+ [Q20] Que se passe-t-il si le pas $dt$ varie ? (Vous pouvez tenter, par exemple, {10000s, 1000s, 100s, 10s, 1s} ou {1jour, 1heure, 1min, 1s}. Attention, le calcul pourrait devenir long dans le cas d'un pas court.)\n",
    "+ [Q21] Que se passe-t-il après plusieurs cycles, par exemple au fil de 10 ans, ou de 100 ans ?\n",
    " \n",
    "[Astuce : faites attention aux unités !]\n",
    "\n",
    "Veuillez utiliser les noms suivants des variables :\n",
    "\n",
    "+ `xSoleil` : la position du Soleil (c'est un vecteur fixe à l'origine)\n",
    "+ `xTerre` : la position de la Terre (c'est un vecteur)\n",
    "+ `vTerre` : la vitesse de la Terre (c'est un vecteur)\n",
    "+ `dt` : le pas (c'est un nombre)"
   ]
  },
  {
   "cell_type": "code",
   "execution_count": null,
   "id": "2a3a7baf",
   "metadata": {
    "collapsed": true,
    "jupyter": {
     "outputs_hidden": true
    }
   },
   "outputs": [],
   "source": []
  },
  {
   "cell_type": "code",
   "execution_count": null,
   "id": "f8418dd5",
   "metadata": {
    "collapsed": true,
    "jupyter": {
     "outputs_hidden": true
    }
   },
   "outputs": [],
   "source": []
  },
  {
   "cell_type": "code",
   "execution_count": 27,
   "id": "73fc28eb",
   "metadata": {},
   "outputs": [
    {
     "name": "stdout",
     "output_type": "stream",
     "text": [
      "la position de la terre est [1.49632328e+11 5.83354613e+08 0.00000000e+00] km\n"
     ]
    },
    {
     "ename": "NameError",
     "evalue": "name 'matplotlib' is not defined",
     "output_type": "error",
     "traceback": [
      "\u001b[1;31m---------------------------------------------------------------------------\u001b[0m",
      "\u001b[1;31mNameError\u001b[0m                                 Traceback (most recent call last)",
      "\u001b[1;32m<ipython-input-27-2f2fabec85cc>\u001b[0m in \u001b[0;36m<module>\u001b[1;34m()\u001b[0m\n\u001b[0;32m     23\u001b[0m \u001b[0mprint\u001b[0m\u001b[1;33m(\u001b[0m\u001b[1;34m\"la position de la terre est\"\u001b[0m\u001b[1;33m,\u001b[0m \u001b[0mxTerre\u001b[0m\u001b[1;33m,\u001b[0m \u001b[1;34m\"km\"\u001b[0m \u001b[1;33m)\u001b[0m\u001b[1;33m\u001b[0m\u001b[0m\n\u001b[0;32m     24\u001b[0m \u001b[1;33m\u001b[0m\u001b[0m\n\u001b[1;32m---> 25\u001b[1;33m \u001b[0mmatplotlib\u001b[0m\u001b[1;33m.\u001b[0m\u001b[0mpyplot\u001b[0m\u001b[1;33m.\u001b[0m\u001b[0mscatter\u001b[0m\u001b[1;33m(\u001b[0m\u001b[0mresx\u001b[0m\u001b[1;33m,\u001b[0m\u001b[0mresy\u001b[0m\u001b[1;33m,\u001b[0m \u001b[0mlabel\u001b[0m\u001b[1;33m=\u001b[0m\u001b[1;34m\"dt = 100s\"\u001b[0m\u001b[1;33m)\u001b[0m\u001b[1;33m\u001b[0m\u001b[0m\n\u001b[0m\u001b[0;32m     26\u001b[0m \u001b[0mmatplotlib\u001b[0m\u001b[1;33m.\u001b[0m\u001b[0mpyplot\u001b[0m\u001b[1;33m.\u001b[0m\u001b[0mtitle\u001b[0m\u001b[1;33m(\u001b[0m\u001b[1;34m\"evolution avec un pas de 100 secondes\"\u001b[0m\u001b[1;33m)\u001b[0m\u001b[1;33m\u001b[0m\u001b[0m\n\u001b[0;32m     27\u001b[0m \u001b[0mmatplotlib\u001b[0m\u001b[1;33m.\u001b[0m\u001b[0mpyplot\u001b[0m\u001b[1;33m.\u001b[0m\u001b[0mxlabel\u001b[0m\u001b[1;33m(\u001b[0m\u001b[1;34m\"x[m]\"\u001b[0m\u001b[1;33m)\u001b[0m\u001b[1;33m\u001b[0m\u001b[0m\n",
      "\u001b[1;31mNameError\u001b[0m: name 'matplotlib' is not defined"
     ]
    }
   ],
   "source": [
    "#question 18\n",
    "\n",
    "#  un an est forme de 1 * 365.25 * 60 * 24 * 3600 secondes\n",
    "xSoleil = numpy.array([0.0, 0.0, 0.0])\n",
    "xTerre = numpy.array([149596006.0*10**3, 0.0, 0.0])\n",
    "vTerre = (0.0, 29.78*10**3, 0.0)\n",
    "resx = []\n",
    "resy = []\n",
    "\n",
    "dt= 100  #pas choisie \n",
    "secans= 365.25*24*3600\n",
    "N= round(secans/dt) #nombre de fois où la fonction doit se répéter\n",
    "\n",
    "pointsouhait = 100\n",
    "pasgraph= round(N/pointsouhait)\n",
    "for i in range(0,N):\n",
    "    \n",
    "    xTerre, vTerre = champStatiqueAvanceUnPas(xSoleil, xTerre, vTerre, dt)\n",
    "    if i % pasgraph == 0:\n",
    "        xTerre, vTerre = champStatiqueAvanceUnPas(xSoleil, xTerre, vTerre, dt)\n",
    "        resx = resx + [xTerre[0]] \n",
    "        resy = resy + [xTerre[1]]\n",
    "print(\"la position de la terre est\", xTerre, \"km\" )\n",
    "\n",
    "matplotlib.pyplot.scatter(resx,resy, label=\"dt = 100s\")\n",
    "matplotlib.pyplot.title(\"evolution avec un pas de 100 secondes\")\n",
    "matplotlib.pyplot.xlabel(\"x[m]\")\n",
    "matplotlib.pyplot.ylabel(\"y[m]\")\n",
    "plt.show()\n"
   ]
  },
  {
   "cell_type": "code",
   "execution_count": null,
   "id": "15155632",
   "metadata": {},
   "outputs": [],
   "source": [
    "#Question 19\n",
    "print(\"La position est approximativement la même, on note une erreur de 0.01*10**11 qui est negligeable par rapport aux unites de grandeurs\")\n"
   ]
  },
  {
   "cell_type": "code",
   "execution_count": null,
   "id": "49667cc9",
   "metadata": {},
   "outputs": [],
   "source": [
    "\n",
    "#  un an est forme de 1 * 365.25 * 60 * 24 * 3600 secondes\n",
    "\n",
    "\n",
    "\n",
    "xSoleil = numpy.array([0.0, 0.0, 0.0])\n",
    "xTerre = numpy.array([149596006.0*10**3, 0.0, 0.0])\n",
    "vTerre = (0.0, 29.78*10**3, 0.0)\n",
    "resx = []\n",
    "resy = []\n",
    "\n",
    "dt= 1000 #pas choisie \n",
    "secans= 365.25*24*3600\n",
    "print(secans)\n",
    "N= round(secans/dt) #nombre de fois où la fonction doit se répéter\n",
    "\n",
    "pointsouhait = 100\n",
    "pasgraph= round(N/pointsouhait)\n",
    "print(N)\n",
    "\n",
    "print(xTerre)\n",
    "for i in range(0,10*N):\n",
    "        xTerre, vTerre = champStatiqueAvanceUnPas(xSoleil, xTerre, vTerre, dt)\n",
    "        if i % pasgraph == 0:\n",
    "            xTerre, vTerre = champStatiqueAvanceUnPas(xSoleil, xTerre, vTerre, dt)\n",
    "            resx = resx + [xTerre[0]] \n",
    "            resy = resy + [xTerre[1]]\n",
    "print(\"la position de la terre est\", xTerre, \"km\" )\n",
    "\n",
    "matplotlib.pyplot.scatter(resx,resy, label=\"dt = 100s\")\n",
    "matplotlib.pyplot.title(\"Mettre ici le titre du graphique\")\n",
    "matplotlib.pyplot.xlabel(\"Mettre ici le titre de l'abscisse [unités]\")\n",
    "matplotlib.pyplot.ylabel(\"Mettre ici le titre de l'ordonnée [unités]\")\n",
    "\n",
    "\n",
    "plt.scatter(resx, resy)\n",
    "plt.show()\n",
    "# question 20\n",
    "print(\"Nous pouvons voir grace au graphique et aux données que la Terre ne revient pas tout à fait à son point de départ.Plus dt sera grand, plus la Terre s'éloigne de son point de départ, cependant sa trajectoire reste une ellipse approximativement confondue avec sa trajectoire initiale\")"
   ]
  },
  {
   "cell_type": "code",
   "execution_count": null,
   "id": "06893cd8",
   "metadata": {},
   "outputs": [],
   "source": [
    "#Question 21\n",
    "\n",
    "print(\"On remarque que la Terre refait une ellipse (meme trajectoire) et s'éloigne également un peu de sa position initiale\")"
   ]
  },
  {
   "cell_type": "markdown",
   "id": "0e8d765b",
   "metadata": {},
   "source": []
  },
  {
   "cell_type": "markdown",
   "id": "587aa343",
   "metadata": {},
   "source": [
    "# 3. Un système à deux corps\n",
    "\n",
    "Dans la réalité, le Soleil n'est pas fixe et immobile. La troisième loi de Newton exige que la force gravitationnelle exercée par le Soleil sur la Terre s'accompagne par une force exercée par la Terre sur le Soleil d'intensité égale, de même direction et de sens opposé. La force subie par le Soleil donne lieu à une acceleration ($2^e$ loi) : le Soleil s'accèlere et se déplacera. Parce que la force subie par la Terre dépend de la position du Soleil, ce déplacement changera l'évolution subséquente du système. Son comportement devient plus complexe : le mouvement de la Terre dépend du mouvement du Soleil, qui dépend du mouvement de la Terre. (Une résolution analytique reste possible dans le cas d'un système à deux corps ; elle s'exprime sous la forme des lois de Kepler.)\n",
    "\n",
    "Nous adapterons notre simulation numérique pour qu'elle tienne compte du mouvement du Soleil. Pour ce faire, nous retenons la même approche : on définit les conditions initiales, puis on calcule les forces et les accélerations à $t=0$, puis on met à jour les positions et les vitesses, puis on recalcule les forces à $t=dt$, etc. La différence, c'est qu'il faut maintenant suivre davantage de paramètres.\n",
    "\n",
    "[Q22] D'abord, écrire une fonction `systemeDeuxCorpsAvanceUnPas(xA, xB, vA, vB, dt)` qui fait avancer les positions et les vitesse d'un pas, et renvoie les nouvelles valeurs.\n",
    "Vous pouvez utiliser la trame suivante :\n",
    "\n",
    "```python\n",
    "def systemeDeuxCorpsAvanceUnPas(xA, xB, vA, vB, dt):\n",
    "    # votre code ici\n",
    "  \n",
    "    return nouvelle_xA, nouvelle_vA, nouvelle_xB, nouvelle_vB\n",
    "```\n",
    "\n",
    "[Q23] Choisir les valeurs initiales des paramètres pour que le centre de masse (barycentre) du système soit (i) à l'origine, et (ii) au repos, c'est-à-dire de vitesse nulle. (Ces choix n'ont pas de signification physique, dans un sens fondamental, mais ils rendront plus simple le modèle du système.) Comme auparavant, on veut que la distance Terre-Soleil à $t=0$ soit $d_0$ et la vitesse relative à $t=0$ soit $v_0$.\n",
    " \n",
    "[Q24] Ensuite, utiliser cette fonction pour calculer l'évolution du système. \n",
    "\n",
    "Veuillez utiliser les noms de variables suivants :\n",
    "\n",
    "+ `xSoleil` : la position du Soleil (c'est un vecteur)\n",
    "+ `xTerre` : la position de la Terre (c'est un vecteur)\n",
    "+ `vSoleil` : la vitesse du Soleil (c'est un vecteur)\n",
    "+ `vTerre` : la vitesse de la Terre (c'est un vecteur)\n",
    "+ `dt` : le pas (c'est un nombre)\n",
    "\n",
    "Questions à considérer :\n",
    "\n",
    "+ [Q25] Est-ce que le système se comporte différemment du modèle simplifié ci-dessus (d'un Soleil fixe) ? Pourquoi ?\n",
    "+ [Q26] Est-ce que la position et la vitesse du centre de masse sont censées varier au fil du temps ? Est-ce le cas en pratique, selon votre modèle ?"
   ]
  },
  {
   "cell_type": "code",
   "execution_count": null,
   "id": "79a5cc92",
   "metadata": {},
   "outputs": [],
   "source": [
    "#q22\n",
    "def systemeDeuxCorpsAvanceUnPas(xA, xB, vA, vB, dt):\n",
    "    dxA = dt*np.array(vA)\n",
    "    nouvelle_xA = xA + dxA\n",
    "    dxB = dt * np.array(vB)\n",
    "    nouvelle_xB = xB + dxB\n",
    "    aA = ForceGravitationnelle(xB, xA, mterre, msoleil) / msoleil\n",
    "    aB = ForceGravitationnelle(xA, xB, msoleil, mterre) / mterre\n",
    "    nouvelle_vA = vA + dt*aA\n",
    "    nouvelle_vB = vB + dt * aB\n",
    "    return nouvelle_xA, nouvelle_vA, nouvelle_xB, nouvelle_vB\n",
    "d0=149596006000.0\n",
    "# q23\n",
    "v0 = 29.78*10**3\n",
    "xsoleilinit= (-mterre*d0)/ (mterre + msoleil)\n",
    "xterreinit = msoleil*d0 / (mterre + msoleil)\n",
    "vsoleilinit = (-mterre*v0) / (mterre + msoleil)\n",
    "vterreinit = (msoleil*v0) / (mterre + msoleil)\n",
    "\n",
    "#q24\n",
    "\n",
    "#  un an est forme de 1 * 365.25 * 60 * 24 * 3600 secondes\n",
    "\n",
    "xSoleil = np.array([xsoleilinit, 0.0, 0.0])\n",
    "xTerre = numpy.array([xterreinit, 0.0, 0.0])\n",
    "vTerre = numpy.array([0.0, vterreinit, 0.0])\n",
    "vSoleil = numpy.array([0.0, vsoleilinit, 0.0])\n",
    "\n",
    "resxs = []\n",
    "resys = []\n",
    "resxt=[]\n",
    "resyt=[]\n",
    "dt= 100.0 #pas choisie \n",
    "secans= 365.25*24*3600\n",
    "N= round(secans/dt) #nombre de fois où la fonction doit se répéter\n",
    "\n",
    "pointsouhait = 100\n",
    "pasgraph= round(N/pointsouhait)\n",
    "\n",
    "print(\"valeur init, xterre =\", xTerre, \"m\" )\n",
    "for i in range(0,N):\n",
    "    xSoleil,vSoleil, xTerre, vTerre = systemeDeuxCorpsAvanceUnPas(xSoleil, xTerre, vSoleil, vTerre, dt)\n",
    "    if i % pasgraph == 0:\n",
    "        resxt = resxt + [xTerre[0]] \n",
    "        resyt = resyt + [xTerre[1]]\n",
    "        resxs = resxs +[xSoleil[0]]\n",
    "        resys = resys +[xSoleil[1]]\n",
    "print(\"la position de la terre est\", xTerre, \"km\" )\n",
    "\n",
    "matplotlib.pyplot.scatter(resxs,resys, label=\"dt = 100s\")\n",
    "matplotlib.pyplot.title(\"Trajectoire du soleil\")\n",
    "matplotlib.pyplot.xlabel(\"x en metres\")\n",
    "matplotlib.pyplot.ylabel(\"y en metres\")\n",
    "\n",
    "\n",
    "plt.scatter(resxs, resys)\n",
    "plt.show()\n"
   ]
  },
  {
   "cell_type": "markdown",
   "id": "4376e344",
   "metadata": {},
   "source": [
    "---"
   ]
  },
  {
   "cell_type": "code",
   "execution_count": null,
   "id": "e0bb2202",
   "metadata": {},
   "outputs": [],
   "source": [
    "plt.scatter(resxt, resyt)\n",
    "plt.title(\"Trajectoire de la terre\")\n",
    "plt.xlabel(\" x[m]\")\n",
    "plt.ylabel(\"y[m]\")\n",
    "plt.show()"
   ]
  },
  {
   "cell_type": "code",
   "execution_count": null,
   "id": "ca95bd87",
   "metadata": {},
   "outputs": [],
   "source": [
    "# question 20\n",
    "print(\"on remarque que la Terre refait une ellipse, cependant le soleil etant mobile en refait une aussi mais avec une echelle specifique\")\n",
    "# question 21\n",
    "print('normalement, les positions et vitesses doivent changer mais dans notre cas on peut remarquer que la trajectoire du soleil est extremement negligeable par rapport a la trajectoire de la terre. On peut le considerer en pratique comme fixe. ')\n",
    "plt.scatter(resxs, resys, label =\"Soleil\")\n",
    "plt.scatter(resxt, resyt, label = \"Terre\")\n",
    "plt.title(\"Evolution Terre et Soleil\")\n",
    "plt.xlabel(\"x[m]\")\n",
    "plt.ylabel(\"y[m]\")\n",
    "plt.legend()\n",
    "plt.show()\n",
    "print(\"cette figure montre bien les affirmations des questions 20 et 21\")"
   ]
  },
  {
   "cell_type": "markdown",
   "id": "fbce5bdc",
   "metadata": {},
   "source": [
    "# Pour aller plus loin\n",
    "\n",
    "Ci-dessous, quelques idées qui pourrait vous inspirer. La liste n'est pas exhaustive !\n",
    "\n",
    "## Idées pour la partie 1 :\n",
    "\n",
    "### Appliquer la troisième loi de Kepler à d'autres planètes ; incertitudes\n",
    "\n",
    "Les données du fichier ```nasa-exoplanetes.csv``` concernent les planètes suivantes :\n",
    "11 Com b,\n",
    "11 UMi b,\n",
    "14 And b,\n",
    "14 Her b,\n",
    "16 Cyg B b,\n",
    "18 Del b,\n",
    "24 Boo b,\n",
    "24 Sex b,\n",
    "24 Sex c,\n",
    "2MASS J19383260+4603591 b,\n",
    "30 Ari B b,\n",
    "4 UMa b,\n",
    "42 Dra b,\n",
    "47 UMa b,\n",
    "47 UMa c,\n",
    "51 Peg b,\n",
    "55 Cnc b,\n",
    "55 Cnc c.\n",
    "\n",
    "Vous pouvez tester sa validité avec d'autres planètes de la base de données de la NASA.\n",
    "Attention : elle comprend énormément d'informations sur des milliers de planètes\n",
    "(et parfois plusieurs mesures par planète).\n",
    "Il n'est pas conseillé de traiter un grand nombre de planètes (pour qu'il reste un projet de physique et non d'informatique).\n",
    "Par contre, il pourrait être intéressant de tester la loi de Kepler dans des conditions\n",
    "extrèmes (p.ex. des planètes très massives, ou très loin de leurs astres, ou dans des systèmes à plusieurs astres).\n",
    "\n",
    "La plupart des mesures pertinantes ont des incertitudes associées.\n",
    "Pouvez-vous les inclure dans votre graphique, et/ou dans votre ajustement ?\n",
    "\n",
    "## Idées pour les parties 2+3 :\n",
    "\n",
    "### La méthode de Varlet\n",
    "\n",
    "L'algorithme itératif proposé dans la partie 2.4 correspond, en effet, à la méthode d'Euler. Il souffre des imprécisions si le pas dt n'est pas très court. Un autre algorithme, plus précis, est [la méthode de Verlet](https://fr.wikipedia.org/wiki/Int%C3%A9gration_de_Verlet). Au deuxième ordre, on peut l'exprimer sous la forme suivante :\n",
    "\n",
    "$$\\vec{v}_B(t + dt) = \\vec{v}_B(t) + \\vec{a}_B(t) dt$$\n",
    "$$\\vec{x}_B(t + dt) = \\vec{x}_B(t) + \\left[ \\frac{\\vec{v}_B(t) + \\vec{v}_B(t+dt)}{2} \\right] dt$$\n",
    "\n",
    "Vous pouvez mettre en comparaison la précision des deux méthodes (d'Euler et de Verlet) avec des pas grossiers, raisonnables, et fins. Les résultats, sont-ils cohérents ? Sous quelles conditions les méthodes sont-elles fiables ?\n",
    "\n",
    "### Un modèle plus réaliste du système Terre-Soleil ; vérifications numériques de la troisième loi de Kepler (via la simulation des parties 2-3)\n",
    "\n",
    "Les valeurs initiales du rayon et de la vitesse de la Terre (proposées dans les sections 2.3 et 2.4) ont été calculées tel qu'on obtienne une orbite quasi-circulaire ; elles correspondent bien aux valeurs expérimentales du demi-grand axe $a$ et de la vitesse _moyenne_ de [l'orbite](https://fr.wikipedia.org/wiki/Orbite_de_la_Terre). Cependant, dans la réalité l'orbite n'est pas strictement circulaire ; vous pouvez simuler l'orbite avec de valeurs plus précises de l'orbite de la Terre, ou d'une autre planète ayant une excentricité plus importante. Que vaut la période selon votre simulation ? Est-ce que cette valeur valide la troisième loi de Kepler ?\n",
    "\n",
    "### Un système à n corps\n",
    "\n",
    "Dans la partie 3, nous avons étudié un système à deux corps (le Soleil et la Terre). Pouvez-vous généraliser l'algorithme à plusieurs corps ? (Par exemple : le Soleil plus l'ensemble des planètes du [système solaire](https://fr.wikipedia.org/wiki/Syst%C3%A8me_solaire)). On garde l'approche itérative de base, mais à chaque itération il faudra calculer toutes les forces par paire (par exemple, la force Soleil-Terre, la force Soleil-Mars, la force Terre-Mars, ...) puis pour chaque corps calculer la somme vectorielle des forces (la résultante), puis en déduire l'accéleration, puis mettre à jour la position et la vitesse. L'orbite de la Terre, est-elle sensible à la présence des autres planètes ?\n",
    "\n",
    "### D'autres systèmes\n",
    "\n",
    "À l'aide de [la base de données NASA](https://exoplanetarchive.ipac.caltech.edu/cgi-bin/TblView/nph-tblView?app=ExoTbls&config=PS), vous pouvez simuler l'évolution d'un système astre-exoplanète. Se comporte-il d'une manière similaire à notre système solaire ? Y-a-t'il des différences ?\n",
    "\n",
    "### Effets systématiques\n",
    "\n",
    "Dans la recherche, on veut non seulement d'évaluer une quantité mais aussi estimer l'incertitude associée. En général, on trouve non seulement des incertitudes simples de mesure mais aussi des incertitudes dites systématiques, liées aux failles de la méthode, les hypothèses et approximations, les biais, etc. Quelles incertitudes sysématiques interviennent dans vos résultats ? Pouvez-vous les quantifier ? Comment les réduire (voire éliminer) ?\n",
    "\n",
    "### Les autres lois de Kepler :\n",
    "\n",
    "La première et la deuxième lois de Kepler s'expriment comme suite :\n",
    "\n",
    "1) Les planètes suivent des trajectoires elliptiques dont l'astre occupe l'un des foyers.\n",
    "2) Des aires égales sont balayées dans des temps égaux (ou plus précisement, l'aire balayée par le segment ST entre deux positions A et B est égale à l'aire balayée par ce segment entre deux positions C et D si la durée qui sépare les positions A et B est égale à la durée qui sépare les positions C et D, où S est la position de l'astre et T est la position de la planète).\n",
    "\n",
    "Pouvez-vous vérifier, en utilisant votre simulation numérique, que ces lois sont validées ?"
   ]
  },
  {
   "cell_type": "markdown",
   "id": "861caa07",
   "metadata": {},
   "source": [
    "----\n",
    "(Image du planétaire : Birmingham Museums Trust, via [Wikimedia Commons](https://en.wikipedia.org/wiki/File:Thinktank_Birmingham_-_object_1956S00682.00001(1).jpg))"
   ]
  },
  {
   "cell_type": "code",
   "execution_count": null,
   "id": "4d596a75",
   "metadata": {
    "collapsed": true,
    "jupyter": {
     "outputs_hidden": true
    }
   },
   "outputs": [],
   "source": []
  },
  {
   "cell_type": "code",
   "execution_count": null,
   "id": "efd2dd3d",
   "metadata": {
    "collapsed": true,
    "jupyter": {
     "outputs_hidden": true
    }
   },
   "outputs": [],
   "source": []
  },
  {
   "cell_type": "code",
   "execution_count": null,
   "id": "a1820502",
   "metadata": {
    "collapsed": true,
    "jupyter": {
     "outputs_hidden": true
    }
   },
   "outputs": [],
   "source": [
    ";;"
   ]
  },
  {
   "cell_type": "code",
   "execution_count": null,
   "id": "2460f056",
   "metadata": {
    "collapsed": true,
    "jupyter": {
     "outputs_hidden": true
    }
   },
   "outputs": [],
   "source": []
  }
 ],
 "metadata": {
  "kernelspec": {
   "display_name": "Python 3 (ipykernel)",
   "language": "python",
   "name": "python3"
  },
  "language_info": {
   "codemirror_mode": {
    "name": "ipython",
    "version": 3
   },
   "file_extension": ".py",
   "mimetype": "text/x-python",
   "name": "python",
   "nbconvert_exporter": "python",
   "pygments_lexer": "ipython3",
   "version": "3.11.5"
  }
 },
 "nbformat": 4,
 "nbformat_minor": 5
}
